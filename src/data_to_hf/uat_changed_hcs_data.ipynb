{
 "cells": [
  {
   "metadata": {},
   "cell_type": "markdown",
   "source": "# Changed the HCS (deleted 5 scoresheets and move box images of them)\n",
   "id": "1d36d6039d2985fa"
  },
  {
   "metadata": {},
   "cell_type": "markdown",
   "source": "## Import\n",
   "id": "ab44b012e4feb6f8"
  },
  {
   "cell_type": "code",
   "id": "initial_id",
   "metadata": {
    "collapsed": true,
    "ExecuteTime": {
     "end_time": "2025-04-29T18:04:06.331422Z",
     "start_time": "2025-04-29T18:04:06.328148Z"
    }
   },
   "source": "import os",
   "outputs": [],
   "execution_count": 3
  },
  {
   "metadata": {},
   "cell_type": "markdown",
   "source": "## Test changed unprocessed HCS data",
   "id": "c1542bad6853d253"
  },
  {
   "metadata": {
    "ExecuteTime": {
     "end_time": "2025-04-29T18:13:11.428447Z",
     "start_time": "2025-04-29T18:13:11.424867Z"
    }
   },
   "cell_type": "code",
   "source": [
    "unprocessed_image_dir = \"./data/raw_data/unprocessed_hcs_data/images\"\n",
    "to_be_deleted_images = ['007_0.png', '061_1.png', '049_1.png', '070_1.png', '048_0.png']"
   ],
   "id": "591ac8e9d88ee37c",
   "outputs": [],
   "execution_count": 14
  },
  {
   "metadata": {
    "ExecuteTime": {
     "end_time": "2025-04-29T18:13:11.623785Z",
     "start_time": "2025-04-29T18:13:11.619566Z"
    }
   },
   "cell_type": "code",
   "source": "hcs_unprocessed_images = [item for item in os.listdir(unprocessed_image_dir) if \".png\" in item]",
   "id": "93d6fdac81cc65d8",
   "outputs": [],
   "execution_count": 15
  },
  {
   "metadata": {
    "ExecuteTime": {
     "end_time": "2025-04-29T18:13:11.819978Z",
     "start_time": "2025-04-29T18:13:11.817003Z"
    }
   },
   "cell_type": "code",
   "source": [
    "if len(hcs_unprocessed_images) == 206:\n",
    "    print(\"Correct amount of images!\")\n",
    "else:\n",
    "    print(f\"Wrong! The amount of images in the directory should be 205 but it was {len(hcs_unprocessed_images)}!\")"
   ],
   "id": "fc0f53674aff1775",
   "outputs": [
    {
     "name": "stdout",
     "output_type": "stream",
     "text": [
      "Correct amount of images!\n"
     ]
    }
   ],
   "execution_count": 16
  },
  {
   "metadata": {
    "ExecuteTime": {
     "end_time": "2025-04-29T18:13:12.084374Z",
     "start_time": "2025-04-29T18:13:12.079257Z"
    }
   },
   "cell_type": "code",
   "source": [
    "for to_be_deleted_image in to_be_deleted_images:\n",
    "    for image_name in hcs_unprocessed_images:\n",
    "        if to_be_deleted_image == image_name:\n",
    "            print(f\"{image_name} should be deleted!\")"
   ],
   "id": "ade347d117882e8c",
   "outputs": [],
   "execution_count": 17
  },
  {
   "metadata": {},
   "cell_type": "markdown",
   "source": "# Test changed processed HCS data",
   "id": "9fda7ace964e4df"
  },
  {
   "metadata": {
    "ExecuteTime": {
     "end_time": "2025-04-29T18:19:49.631655Z",
     "start_time": "2025-04-29T18:19:49.629910Z"
    }
   },
   "cell_type": "code",
   "source": [
    "processed_image_dir = \"./data/raw_data/processed_hcs_data/images\"\n",
    "to_be_deleted_images = ['007_0.png', '061_1.png', '049_1.png', '070_1.png', '048_0.png']"
   ],
   "id": "30e2691823548d54",
   "outputs": [],
   "execution_count": 27
  },
  {
   "metadata": {
    "ExecuteTime": {
     "end_time": "2025-04-29T18:19:50.103595Z",
     "start_time": "2025-04-29T18:19:50.012858Z"
    }
   },
   "cell_type": "code",
   "source": "hcs_processed_images = [item for item in os.listdir(processed_image_dir) if \".png\" in item]",
   "id": "5b4aa04139e6e4b6",
   "outputs": [],
   "execution_count": 28
  },
  {
   "metadata": {
    "ExecuteTime": {
     "end_time": "2025-04-29T18:19:50.424964Z",
     "start_time": "2025-04-29T18:19:50.421547Z"
    }
   },
   "cell_type": "code",
   "source": [
    "if len(hcs_processed_images) == 24720:\n",
    "    print(\"Correct amount of images!\")\n",
    "else:\n",
    "    print(f\"Wrong! The amount of images in the directory should be 24720 but it was {len(hcs_processed_images)}!\")"
   ],
   "id": "c4d6ddb6c007020e",
   "outputs": [
    {
     "name": "stdout",
     "output_type": "stream",
     "text": [
      "Wrong! The amount of images in the directory should be 24720 but it was 24601!\n"
     ]
    }
   ],
   "execution_count": 29
  },
  {
   "metadata": {
    "ExecuteTime": {
     "end_time": "2025-04-29T18:19:51.130661Z",
     "start_time": "2025-04-29T18:19:51.127631Z"
    }
   },
   "cell_type": "code",
   "source": [
    "for to_be_deleted_image in to_be_deleted_images:\n",
    "    for image_name in hcs_unprocessed_images:\n",
    "        if to_be_deleted_image in image_name:\n",
    "            print(f\"{image_name} should be deleted!\")"
   ],
   "id": "f500cbb32c9a859f",
   "outputs": [],
   "execution_count": 30
  }
 ],
 "metadata": {
  "kernelspec": {
   "display_name": "Python 3",
   "language": "python",
   "name": "python3"
  },
  "language_info": {
   "codemirror_mode": {
    "name": "ipython",
    "version": 2
   },
   "file_extension": ".py",
   "mimetype": "text/x-python",
   "name": "python",
   "nbconvert_exporter": "python",
   "pygments_lexer": "ipython2",
   "version": "2.7.6"
  }
 },
 "nbformat": 4,
 "nbformat_minor": 5
}
